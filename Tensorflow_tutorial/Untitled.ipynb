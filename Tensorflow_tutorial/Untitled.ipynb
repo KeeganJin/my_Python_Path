{
 "cells": [
  {
   "cell_type": "markdown",
   "id": "1dab5f14-466b-45c1-89ca-d9cbef3ca6e1",
   "metadata": {},
   "source": [
    "Tensorflow Learning Tutorial"
   ]
  },
  {
   "cell_type": "code",
   "execution_count": null,
   "id": "17dda9be-1aad-4cb8-b58e-26b1f5fd3168",
   "metadata": {},
   "outputs": [],
   "source": []
  }
 ],
 "metadata": {
  "kernelspec": {
   "display_name": "Python 3 (ipykernel)",
   "language": "python",
   "name": "python3"
  },
  "language_info": {
   "codemirror_mode": {
    "name": "ipython",
    "version": 3
   },
   "file_extension": ".py",
   "mimetype": "text/x-python",
   "name": "python",
   "nbconvert_exporter": "python",
   "pygments_lexer": "ipython3",
   "version": "3.7.16"
  }
 },
 "nbformat": 4,
 "nbformat_minor": 5
}
